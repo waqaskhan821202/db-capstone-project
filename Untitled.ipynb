{
 "cells": [
  {
   "cell_type": "code",
   "execution_count": 32,
   "id": "e485c60d-43f7-4165-9680-97db053d7a58",
   "metadata": {},
   "outputs": [],
   "source": [
    "import mysql.connector as connector\n",
    "from mysql.connector import Error"
   ]
  },
  {
   "cell_type": "code",
   "execution_count": 33,
   "id": "15fc3e9f-7020-4a1d-be20-ed38ba57610c",
   "metadata": {},
   "outputs": [],
   "source": [
    "connection = connector.connect (user = \"root\", password = \"waqas111\", db = \"LittleLemonDB\")"
   ]
  },
  {
   "cell_type": "code",
   "execution_count": 34,
   "id": "604016d6-6938-4b9b-a25e-749d709f78d9",
   "metadata": {},
   "outputs": [],
   "source": [
    "cursor = connection.cursor()"
   ]
  },
  {
   "cell_type": "code",
   "execution_count": 35,
   "id": "a412fd0c-a612-4bae-87ab-98141448bea9",
   "metadata": {},
   "outputs": [],
   "source": [
    "show_table_query = \"SHOW Tables\"\n",
    "cursor.execute(show_table_query)"
   ]
  },
  {
   "cell_type": "code",
   "execution_count": 36,
   "id": "57305798-1dc4-459a-96e7-632dd1c79656",
   "metadata": {},
   "outputs": [
    {
     "name": "stdout",
     "output_type": "stream",
     "text": [
      "('bookings',)\n",
      "('customers',)\n",
      "('menuitems',)\n",
      "('menus',)\n",
      "('orders',)\n",
      "('orders_delivery_status',)\n",
      "('staff',)\n"
     ]
    }
   ],
   "source": [
    "results = cursor.fetchall()\n",
    "for result in results:\n",
    "    print(result)"
   ]
  },
  {
   "cell_type": "code",
   "execution_count": 37,
   "id": "03a038fd-cfc7-487a-8639-ff721dff687d",
   "metadata": {},
   "outputs": [],
   "source": [
    "join_query = \"\"\"SELECT customers.Name, customers.ContactDetail, orders.TotalCost from customers INNER JOIN orders\n",
    "ON customers.CustomerID = orders.CustomerID WHERE TotalCost > 60;\"\"\""
   ]
  },
  {
   "cell_type": "code",
   "execution_count": 38,
   "id": "6ba0e921-0c16-48b0-a1c1-05a274f7bec4",
   "metadata": {},
   "outputs": [],
   "source": [
    "cursor.execute(join_query)"
   ]
  },
  {
   "cell_type": "code",
   "execution_count": null,
   "id": "04f0e814-e25c-4c60-91f3-91be74224875",
   "metadata": {},
   "outputs": [],
   "source": []
  }
 ],
 "metadata": {
  "kernelspec": {
   "display_name": "Python 3 (ipykernel)",
   "language": "python",
   "name": "python3"
  },
  "language_info": {
   "codemirror_mode": {
    "name": "ipython",
    "version": 3
   },
   "file_extension": ".py",
   "mimetype": "text/x-python",
   "name": "python",
   "nbconvert_exporter": "python",
   "pygments_lexer": "ipython3",
   "version": "3.12.1"
  }
 },
 "nbformat": 4,
 "nbformat_minor": 5
}
